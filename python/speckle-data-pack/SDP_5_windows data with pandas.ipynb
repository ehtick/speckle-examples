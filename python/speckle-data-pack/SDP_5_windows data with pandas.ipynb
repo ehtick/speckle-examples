{
 "cells": [
  {
   "cell_type": "markdown",
   "metadata": {},
   "source": [
    "## Speckle Data Pack\n",
    "### Concrete And Cement Content\n",
    "This example explains how to get quantities and types of windows accross the whole portfolio."
   ]
  },
  {
   "cell_type": "code",
   "execution_count": 1,
   "metadata": {},
   "outputs": [],
   "source": [
    "%%capture\n",
    "# capture turns off the output for this cell which would just be the pip install log\n",
    "%pip install specklepy\n",
    "%pip install pandas\n",
    "%pip install pandasai"
   ]
  },
  {
   "cell_type": "code",
   "execution_count": 2,
   "metadata": {},
   "outputs": [],
   "source": [
    "from specklepy.api.wrapper import StreamWrapper\n",
    "\n",
    "# Speckle Data Pack I project (stream) link\n",
    "stream_url = \"https://speckle.xyz/streams/729cb7c74b\"\n",
    "\n",
    "# wrapper\n",
    "wrapper = StreamWrapper(stream_url)\n"
   ]
  },
  {
   "cell_type": "code",
   "execution_count": 3,
   "metadata": {},
   "outputs": [],
   "source": [
    "from specklepy.api import operations\n",
    "\n",
    "# get project (stream) data\n",
    "stream = wrapper.get_client().stream.get(id=wrapper.stream_id, branch_limit=40)\n",
    "\n",
    "data = []\n",
    "\n",
    "# models (branches) to skip\n",
    "exclude_models = ['main', 'all_in_one']\n",
    "\n",
    "for branch in stream.branches.items:\n",
    "    \n",
    "    if branch.commits.items and branch.name not in exclude_models:\n",
    "        # get obj id from the latest version (commit)\n",
    "        obj_id = branch.commits.items[0].referencedObject\n",
    "\n",
    "        # receive objects from speckle\n",
    "        commit_data = operations.receive(\n",
    "            obj_id=obj_id, remote_transport=wrapper.get_transport()\n",
    "        )\n",
    "        data.append([commit_data, branch.name])\n",
    "    "
   ]
  },
  {
   "cell_type": "code",
   "execution_count": 4,
   "metadata": {},
   "outputs": [
    {
     "data": {
      "text/plain": [
       "['M_Fixed - 0406 x 0610mm',\n",
       " 'M_Fixed - 0406 x 1220mm',\n",
       " 'M_Fixed - 0610 x 0610mm',\n",
       " 'M_Fixed - 0610 x 1220mm',\n",
       " 'M_Fixed - 0915 x 0610mm',\n",
       " 'M_Fixed - 0915 x 1220mm',\n",
       " 'M_Fixed - 0406 x 1830mm',\n",
       " 'M_Fixed - 0610 x 1830mm',\n",
       " 'M_Fixed - 0915 x 1830mm',\n",
       " 'M_Window-Double-Hung - 600 x 1100mm',\n",
       " 'M_Window-Double-Hung - 650 x 1100mm',\n",
       " 'M_Window-Double-Hung - 700 x 1200mm',\n",
       " 'M_Window-Double-Hung - 750 x 1200mm',\n",
       " 'M_Window-Casement-Double - 850 x 900mm',\n",
       " 'M_Window-Casement-Double - 1050 x 1350mm',\n",
       " 'M_Window-Casement-Double - 1200 x 1500mm',\n",
       " 'M_Window-Casement-Double - 1400 x 1800mm',\n",
       " 'Windows_Sgl_Plain - 910x910mm',\n",
       " 'Windows_Sgl_Plain - 910x1210mm',\n",
       " 'Windows_Sgl_Plain - 1360x910mm',\n",
       " 'Windows_Sgl_Plain - 1360x1210mm',\n",
       " 'Windows_Sgl_Plain - 1810x910mm',\n",
       " 'Windows_Sgl_Plain - 1810x1210mm',\n",
       " 'M_Window-Fixed - 600 x 900mm',\n",
       " 'M_Window-Fixed - 600 x 1500mm',\n",
       " 'M_Window-Fixed - 750 x 900mm',\n",
       " 'M_Window-Fixed - 750 x 1650mm',\n",
       " 'M_Window-Fixed - 900 x 1200mm',\n",
       " 'M_Window-Fixed - 900 x 1650mm']"
      ]
     },
     "execution_count": 4,
     "metadata": {},
     "output_type": "execute_result"
    }
   ],
   "source": [
    "# get list of window family definitions accros all Revit models, these are not actual instances placed\n",
    "\n",
    "window_families = []\n",
    "\n",
    "for item in data:\n",
    "    \n",
    "    types = item[0]['@Types']['@Windows']\n",
    "\n",
    "    for t in types:\n",
    "        wt = t['family'] + ' - ' + t['type']\n",
    "        if wt not in window_families:\n",
    "            window_families.append(wt)\n",
    "\n",
    "window_families"
   ]
  },
  {
   "cell_type": "code",
   "execution_count": 5,
   "metadata": {},
   "outputs": [],
   "source": [
    "# create data table\n",
    "\n",
    "import pandas as pd\n",
    "\n",
    "table = {'Type':[], 'Size':[], 'Level':[], 'Model':[]}\n",
    "\n",
    "# object types to look for, walls are host elements\n",
    "types = ['Walls']\n",
    "\n",
    "for item in data: \n",
    "\n",
    "    elements = item[0]['elements']\n",
    "\n",
    "    # get type collections\n",
    "    for element in elements:\n",
    "        if element['name'] in types:\n",
    "            for el in element['elements']:\n",
    "                # check if wall has hosted elements \n",
    "                if el['elements']:\n",
    "                    for e in el['elements']:\n",
    "                        if e['category'] == 'Windows':\n",
    "                            table['Type'].append(e['definition']['family'] + ' - ' + e['definition']['type'])\n",
    "                            table['Size'].append(e['definition']['type'])\n",
    "                            table['Level'].append(e['level']['name'])\n",
    "                            table['Model'].append(item[1])\n",
    "\n",
    "# create data frame \n",
    "df = pd.DataFrame(table)"
   ]
  },
  {
   "cell_type": "code",
   "execution_count": 6,
   "metadata": {},
   "outputs": [
    {
     "data": {
      "text/plain": [
       "M_Fixed - 0915 x 0610mm                     80\n",
       "Windows_Sgl_Plain - 1360x1210mm             64\n",
       "Windows_Sgl_Plain - 1360x910mm              64\n",
       "M_Window-Casement-Double - 1200 x 1500mm    64\n",
       "M_Fixed - 0610 x 1220mm                     48\n",
       "M_Window-Double-Hung - 650 x 1100mm         48\n",
       "M_Window-Fixed - 900 x 1200mm               48\n",
       "M_Fixed - 0406 x 1830mm                     32\n",
       "Windows_Sgl_Plain - 1810x910mm              32\n",
       "Name: Type, dtype: int64"
      ]
     },
     "execution_count": 6,
     "metadata": {},
     "output_type": "execute_result"
    }
   ],
   "source": [
    "# number of window types in all models\n",
    "df['Type'].value_counts()\n"
   ]
  },
  {
   "cell_type": "code",
   "execution_count": 7,
   "metadata": {},
   "outputs": [
    {
     "data": {
      "text/html": [
       "<div>\n",
       "<style scoped>\n",
       "    .dataframe tbody tr th:only-of-type {\n",
       "        vertical-align: middle;\n",
       "    }\n",
       "\n",
       "    .dataframe tbody tr th {\n",
       "        vertical-align: top;\n",
       "    }\n",
       "\n",
       "    .dataframe thead th {\n",
       "        text-align: right;\n",
       "    }\n",
       "</style>\n",
       "<table border=\"1\" class=\"dataframe\">\n",
       "  <thead>\n",
       "    <tr style=\"text-align: right;\">\n",
       "      <th></th>\n",
       "      <th>Type</th>\n",
       "      <th>Size</th>\n",
       "      <th>Level</th>\n",
       "      <th>Model</th>\n",
       "      <th>Width</th>\n",
       "      <th>Height</th>\n",
       "      <th>Area</th>\n",
       "    </tr>\n",
       "  </thead>\n",
       "  <tbody>\n",
       "    <tr>\n",
       "      <th>0</th>\n",
       "      <td>M_Fixed - 0915 x 0610mm</td>\n",
       "      <td>0915 x 0610</td>\n",
       "      <td>Level1</td>\n",
       "      <td>sb2201</td>\n",
       "      <td>915</td>\n",
       "      <td>610</td>\n",
       "      <td>0.55815</td>\n",
       "    </tr>\n",
       "    <tr>\n",
       "      <th>1</th>\n",
       "      <td>M_Fixed - 0915 x 0610mm</td>\n",
       "      <td>0915 x 0610</td>\n",
       "      <td>Level1</td>\n",
       "      <td>sb2201</td>\n",
       "      <td>915</td>\n",
       "      <td>610</td>\n",
       "      <td>0.55815</td>\n",
       "    </tr>\n",
       "    <tr>\n",
       "      <th>2</th>\n",
       "      <td>M_Fixed - 0915 x 0610mm</td>\n",
       "      <td>0915 x 0610</td>\n",
       "      <td>Level2</td>\n",
       "      <td>sb2201</td>\n",
       "      <td>915</td>\n",
       "      <td>610</td>\n",
       "      <td>0.55815</td>\n",
       "    </tr>\n",
       "    <tr>\n",
       "      <th>3</th>\n",
       "      <td>M_Fixed - 0915 x 0610mm</td>\n",
       "      <td>0915 x 0610</td>\n",
       "      <td>Level2</td>\n",
       "      <td>sb2201</td>\n",
       "      <td>915</td>\n",
       "      <td>610</td>\n",
       "      <td>0.55815</td>\n",
       "    </tr>\n",
       "    <tr>\n",
       "      <th>4</th>\n",
       "      <td>M_Fixed - 0915 x 0610mm</td>\n",
       "      <td>0915 x 0610</td>\n",
       "      <td>Level2</td>\n",
       "      <td>sb2201</td>\n",
       "      <td>915</td>\n",
       "      <td>610</td>\n",
       "      <td>0.55815</td>\n",
       "    </tr>\n",
       "  </tbody>\n",
       "</table>\n",
       "</div>"
      ],
      "text/plain": [
       "                      Type         Size   Level   Model  Width  Height  \\\n",
       "0  M_Fixed - 0915 x 0610mm  0915 x 0610  Level1  sb2201    915     610   \n",
       "1  M_Fixed - 0915 x 0610mm  0915 x 0610  Level1  sb2201    915     610   \n",
       "2  M_Fixed - 0915 x 0610mm  0915 x 0610  Level2  sb2201    915     610   \n",
       "3  M_Fixed - 0915 x 0610mm  0915 x 0610  Level2  sb2201    915     610   \n",
       "4  M_Fixed - 0915 x 0610mm  0915 x 0610  Level2  sb2201    915     610   \n",
       "\n",
       "      Area  \n",
       "0  0.55815  \n",
       "1  0.55815  \n",
       "2  0.55815  \n",
       "3  0.55815  \n",
       "4  0.55815  "
      ]
     },
     "execution_count": 7,
     "metadata": {},
     "output_type": "execute_result"
    }
   ],
   "source": [
    "# get area from size column\n",
    "\n",
    "# strip mm\n",
    "df['Size'] = df['Size'].str.strip('mm')\n",
    "\n",
    "# split size column and create new width and height columns\n",
    "df[['Width', 'Height']] = df['Size'].str.split('x', expand=True)\n",
    "\n",
    "# convert to numbers\n",
    "df['Width'] = pd.to_numeric(df['Width'])\n",
    "df['Height'] = pd.to_numeric(df['Height'])\n",
    "\n",
    "# calculate area and convert to square meters\n",
    "df['Area'] = df['Width'] * df['Height'] * 0.000001\n",
    "\n",
    "df.head()"
   ]
  },
  {
   "cell_type": "code",
   "execution_count": 8,
   "metadata": {},
   "outputs": [
    {
     "data": {
      "text/plain": [
       "<Axes: xlabel='Model', ylabel='windows area per model m²'>"
      ]
     },
     "execution_count": 8,
     "metadata": {},
     "output_type": "execute_result"
    },
    {
     "data": {
      "image/png": "[encoded data removed]",
      "text/plain": [
       "<Figure size 640x480 with 1 Axes>"
      ]
     },
     "metadata": {},
     "output_type": "display_data"
    }
   ],
   "source": [
    "df.groupby('Model')['Area'].sum().round(3).plot(ylabel='windows area per model m²', kind='bar')"
   ]
  },
  {
   "cell_type": "markdown",
   "metadata": {},
   "source": [
    "PandasAI integrates LLMs so you can simply as questions and in this case, ChatGPT will answer."
   ]
  },
  {
   "cell_type": "code",
   "execution_count": 9,
   "metadata": {},
   "outputs": [],
   "source": [
    "# load environment variables \n",
    "from decouple import config\n"
   ]
  },
  {
   "cell_type": "code",
   "execution_count": 10,
   "metadata": {},
   "outputs": [],
   "source": [
    "import pandas as pd\n",
    "from pandasai import SmartDataframe\n",
    "\n",
    "# Instantiate a LLM\n",
    "from pandasai.llm.openai import OpenAI\n",
    "llm = OpenAI(api_token=config('OPENAI_TOKEN'))\n",
    "\n",
    "df = SmartDataframe(df, config={\"llm\": llm})"
   ]
  },
  {
   "cell_type": "code",
   "execution_count": 11,
   "metadata": {},
   "outputs": [
    {
     "data": {
      "text/plain": [
       "'The model with the largest window area is sb2407.'"
      ]
     },
     "execution_count": 11,
     "metadata": {},
     "output_type": "execute_result"
    }
   ],
   "source": [
    "df.chat('Which model has the largest window area')"
   ]
  },
  {
   "cell_type": "code",
   "execution_count": 12,
   "metadata": {},
   "outputs": [
    {
     "data": {
      "text/plain": [
       "'The model with the largest window area is sb2407. The window type with the largest area is M_Window-Casement-Double - 1200 x 1500mm.'"
      ]
     },
     "execution_count": 12,
     "metadata": {},
     "output_type": "execute_result"
    }
   ],
   "source": [
    "df.chat('Which window type has the largest area')"
   ]
  }
 ],
 "metadata": {
  "kernelspec": {
   "display_name": "Python 3",
   "language": "python",
   "name": "python3"
  },
  "language_info": {
   "codemirror_mode": {
    "name": "ipython",
    "version": 3
   },
   "file_extension": ".py",
   "mimetype": "text/x-python",
   "name": "python",
   "nbconvert_exporter": "python",
   "pygments_lexer": "ipython3",
   "version": "3.10.11"
  },
  "orig_nbformat": 4
 },
 "nbformat": 4,
 "nbformat_minor": 2
}
