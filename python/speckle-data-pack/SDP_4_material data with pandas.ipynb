{
 "cells": [
  {
   "cell_type": "markdown",
   "metadata": {},
   "source": [
    "## Speckle Data Pack\n",
    "### Concrete And Cement Content\n",
    "This example explains how to quantify materials with concrete and cement content accross the whole portfolio."
   ]
  },
  {
   "cell_type": "code",
   "execution_count": 1,
   "metadata": {},
   "outputs": [],
   "source": [
    "%%capture\n",
    "# capture turns off the output for this cell which would just be the pip install log\n",
    "%pip install specklepy\n",
    "%pip install pandas\n",
    "%pip install pandasai"
   ]
  },
  {
   "cell_type": "code",
   "execution_count": 2,
   "metadata": {},
   "outputs": [],
   "source": [
    "from specklepy.api.wrapper import StreamWrapper\n",
    "\n",
    "# Speckle Data Pack I project (stream) link\n",
    "stream_url = \"https://speckle.xyz/streams/729cb7c74b\"\n",
    "\n",
    "# wrapper\n",
    "wrapper = StreamWrapper(stream_url)\n"
   ]
  },
  {
   "cell_type": "code",
   "execution_count": 9,
   "metadata": {},
   "outputs": [],
   "source": [
    "from specklepy.api import operations\n",
    "\n",
    "# get project (stream) data\n",
    "stream = wrapper.get_client().stream.get(id=wrapper.stream_id, branch_limit=40)\n",
    "\n",
    "data = []\n",
    "\n",
    "# models (branches) to skip\n",
    "exclude_models = ['main', 'all_in_one']\n",
    "\n",
    "for branch in stream.branches.items:\n",
    "    \n",
    "    if branch.commits.items and branch.name not in exclude_models:\n",
    "        # get obj id from the latest version (commit)\n",
    "        obj_id = branch.commits.items[0].referencedObject\n",
    "\n",
    "        # receive objects from speckle\n",
    "        commit_data = operations.receive(\n",
    "            obj_id=obj_id, remote_transport=wrapper.get_transport()\n",
    "        )\n",
    "        data.append([commit_data, branch.name])\n",
    "    "
   ]
  },
  {
   "cell_type": "code",
   "execution_count": 4,
   "metadata": {},
   "outputs": [],
   "source": [
    "# get list of materials containing cement and concrete\n",
    "\n",
    "concrete = []\n",
    "\n",
    "for item in data:\n",
    "    \n",
    "    materials = item[0]['@Materials']\n",
    "\n",
    "    for material in materials:\n",
    "\n",
    "        if 'concrete' in material['name'].lower() or 'cement' in material['name'].lower():\n",
    "\n",
    "            if material['name'] not in concrete:\n",
    "                concrete.append(material['name'])"
   ]
  },
  {
   "cell_type": "code",
   "execution_count": null,
   "metadata": {},
   "outputs": [],
   "source": [
    "# create data table\n",
    "\n",
    "import pandas as pd\n",
    "\n",
    "table = {'Type':[], 'Level':[], 'Model':[], 'Material':[], 'Volume':[]}\n",
    "\n",
    "# object types to look for\n",
    "types = ['Floors', 'Walls', 'Columns']\n",
    "\n",
    "for item in data: \n",
    "\n",
    "    elements = item[0]['elements']\n",
    "\n",
    "    # get type collections\n",
    "    for element in elements:\n",
    "        if element['name'] in types:\n",
    "            for el in element['elements']:\n",
    "                for mat in el['materialQuantities']:\n",
    "                    table['Type'].append(el['type'])\n",
    "                    table['Level'].append(el['level']['name'])\n",
    "                    table['Model'].append(item[1])\n",
    "                    table['Material'].append(mat['material']['name'])\n",
    "                    \n",
    "                    # make sure the volume value is a number and convert to cubic millimeters to cubic meters\n",
    "                    table['Volume'].append(float(mat['volume'])/1.0E+9)\n",
    "\n",
    "# create data frame \n",
    "df = pd.DataFrame(table)"
   ]
  },
  {
   "cell_type": "markdown",
   "metadata": {},
   "source": [
    "With table created, we can now slice and dice the room data and look for answers. What materials are there in project portfolio? How many objects per material are there?"
   ]
  },
  {
   "cell_type": "code",
   "execution_count": null,
   "metadata": {},
   "outputs": [
    {
     "data": {
      "text/plain": [
       "Gypsum Wall Board                       568\n",
       "Concrete Masonry Units                  269\n",
       "Metal Stud Layer                        232\n",
       "Brick, Common                           214\n",
       "Plaster                                 152\n",
       "Vapour Retarder                         110\n",
       "Cavity Fill                             110\n",
       "Air                                     104\n",
       "Fiberglass Batt                          80\n",
       "Concrete Masonry Units _High Density     48\n",
       "Plywood, Sheathing                       41\n",
       "Concrete Masonry Units _Low Density      32\n",
       "Vapor Retarder                           32\n",
       "Concrete, Sand/Cement Screed             30\n",
       "Aluminum                                 24\n",
       "Concrete, Cast In Situ                   21\n",
       "Damp-proofing                            21\n",
       "Default Floor                            21\n",
       "Metal Deck                               18\n",
       "Concrete, Cast-in-Place - C15            18\n",
       "Wood Sheathing, Chipboard                12\n",
       "Structure, Timber Joist/Rafter Layer     12\n",
       "Structure, Steel Bar Joist Layer          9\n",
       "Site - Hardcore                           9\n",
       "Rigid insulation                          9\n",
       "Tile, Mosaic, Gray                        9\n",
       "Structure, Wood Joist/Rafter Layer        9\n",
       "Cementitious Backer Board                 9\n",
       "Name: Material, dtype: int64"
      ]
     },
     "execution_count": 6,
     "metadata": {},
     "output_type": "execute_result"
    }
   ],
   "source": [
    "# number of elements per material in all models\n",
    "df['Material'].value_counts()"
   ]
  },
  {
   "cell_type": "markdown",
   "metadata": {},
   "source": [
    "What is the total volumne of materials containg concrete or cement? "
   ]
  },
  {
   "cell_type": "code",
   "execution_count": null,
   "metadata": {},
   "outputs": [
    {
     "data": {
      "text/plain": [
       "3049.0"
      ]
     },
     "execution_count": 14,
     "metadata": {},
     "output_type": "execute_result"
    }
   ],
   "source": [
    "# total volume of materials with concrete and cement content\n",
    "df.loc[df['Material'].isin(concrete)].sum()['Volume'].round(0)"
   ]
  },
  {
   "cell_type": "markdown",
   "metadata": {},
   "source": [
    "What is the volumne of concrete or cementa materials in each model?"
   ]
  },
  {
   "cell_type": "code",
   "execution_count": null,
   "metadata": {},
   "outputs": [
    {
     "data": {
      "text/plain": [
       "Model\n",
       "sb2201    102.0\n",
       "sb2202    116.0\n",
       "sb2203    131.0\n",
       "sb2204    147.0\n",
       "sb2205    137.0\n",
       "sb2206    146.0\n",
       "sb2207    146.0\n",
       "sb2208    166.0\n",
       "sb2209    177.0\n",
       "sb2210    167.0\n",
       "sb2301    116.0\n",
       "sb2302    135.0\n",
       "sb2303    155.0\n",
       "sb2304    145.0\n",
       "sb2305    135.0\n",
       "sb2306    122.0\n",
       "sb2307     44.0\n",
       "sb2308     40.0\n",
       "sb2309     40.0\n",
       "sb2310     42.0\n",
       "sb2401     82.0\n",
       "sb2402     91.0\n",
       "sb2403     82.0\n",
       "sb2404     56.0\n",
       "sb2405     61.0\n",
       "sb2406     59.0\n",
       "sb2407     52.0\n",
       "sb2408     48.0\n",
       "sb2409     55.0\n",
       "sb2410     52.0\n",
       "Name: Volume, dtype: float64"
      ]
     },
     "execution_count": 15,
     "metadata": {},
     "output_type": "execute_result"
    }
   ],
   "source": [
    "# filter materials with concrete content, then group by model and sum volume\n",
    "df.loc[df['Material'].isin(concrete)].groupby('Model')['Volume'].sum().round(0)"
   ]
  },
  {
   "cell_type": "code",
   "execution_count": null,
   "metadata": {},
   "outputs": [
    {
     "data": {
      "text/plain": [
       "<Axes: xlabel='Model', ylabel='concrete & cement content m³'>"
      ]
     },
     "execution_count": 9,
     "metadata": {},
     "output_type": "execute_result"
    },
    {
     "data": {
      "image/png": "[encoded data removed]",
      "text/plain": [
       "<Figure size 640x480 with 1 Axes>"
      ]
     },
     "metadata": {},
     "output_type": "display_data"
    }
   ],
   "source": [
    "df.loc[df['Material'].isin(concrete)].groupby('Model')['Volume'].sum().plot(ylabel='concrete & cement content m³', kind='bar')"
   ]
  },
  {
   "cell_type": "markdown",
   "metadata": {},
   "source": [
    "PandasAI integrates LLMs so you can simply as questions and in this case, ChatGPT will answer."
   ]
  },
  {
   "cell_type": "code",
   "execution_count": null,
   "metadata": {},
   "outputs": [],
   "source": [
    "# load environment variables \n",
    "from decouple import config\n"
   ]
  },
  {
   "cell_type": "code",
   "execution_count": null,
   "metadata": {},
   "outputs": [],
   "source": [
    "import pandas as pd\n",
    "from pandasai import SmartDataframe\n",
    "\n",
    "# Instantiate a LLM\n",
    "from pandasai.llm.openai import OpenAI\n",
    "llm = OpenAI(api_token=config('OPENAI_TOKEN'))\n",
    "\n",
    "df = SmartDataframe(df, config={\"llm\": llm})"
   ]
  },
  {
   "cell_type": "code",
   "execution_count": null,
   "metadata": {},
   "outputs": [
    {
     "data": {
      "text/plain": [
       "'The total volume of materials with concrete or cement content is 3048.821990970001.'"
      ]
     },
     "execution_count": 12,
     "metadata": {},
     "output_type": "execute_result"
    }
   ],
   "source": [
    "df.chat('Count volume of materials with concrete or cement content')"
   ]
  },
  {
   "cell_type": "code",
   "execution_count": null,
   "metadata": {},
   "outputs": [
    {
     "data": {
      "text/plain": [
       "'Count of materials with concrete or cement content: 427\\n\\nUnique types with material that contains concrete or cement:\\nType\\nBeam and Block 200mm                       [concrete masonry units, concrete, sand/cement...\\nCW 102-50-100p                                                      [concrete masonry units]\\nCW 102-50-140p                                                      [concrete masonry units]\\nCW 102-50-215p                                                      [concrete masonry units]\\nCW 102-85-140p                                                      [concrete masonry units]\\nConcrete-Domestic 425mm                    [concrete, cast in situ, concrete, sand/cement...\\nFloor-Upper_160mmConc-CorusComFlor51                         [concrete, cast-in-place - c15]\\nGeneric - 200mm Masonry                                             [concrete masonry units]\\nGeneric - 300mm Masonry                                             [concrete masonry units]\\nInsitu Concrete 225mm                      [concrete, cast in situ, concrete, sand/cement...\\nInterior - Blockwork 100                                            [concrete masonry units]\\nM_Exterior - CMU on Mtl. Stud                                       [concrete masonry units]\\nWall-Ext_102Bwk-50Air-45Ins-100DBlk-12P               [concrete masonry units _high density]\\nWall-Ext_102Bwk-75Ins-100LBlk-12P                      [concrete masonry units _low density]\\nWall-Int_12P-100Blk-12P                                             [concrete masonry units]\\nWood Joist 235mm - Ceramic Tile                                  [cementitious backer board]\\nName: Material, dtype: object'"
      ]
     },
     "execution_count": 16,
     "metadata": {},
     "output_type": "execute_result"
    }
   ],
   "source": [
    "df.chat('Show unique types with material that contains concrete or cement')"
   ]
  }
 ],
 "metadata": {
  "kernelspec": {
   "display_name": "Python 3",
   "language": "python",
   "name": "python3"
  },
  "language_info": {
   "codemirror_mode": {
    "name": "ipython",
    "version": 3
   },
   "file_extension": ".py",
   "mimetype": "text/x-python",
   "name": "python",
   "nbconvert_exporter": "python",
   "pygments_lexer": "ipython3",
   "version": "3.10.11"
  },
  "orig_nbformat": 4
 },
 "nbformat": 4,
 "nbformat_minor": 2
}
